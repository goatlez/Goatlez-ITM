{
 "cells": [
  {
   "cell_type": "code",
   "execution_count": 197,
   "id": "900c9f81-425c-41e7-9455-80277ea20b8a",
   "metadata": {},
   "outputs": [],
   "source": [
    "import pandas as pd\n",
    "import numpy as np \n",
    "import matplotlib.pyplot as plt\n",
    "\n",
    "customer_df = pd.read_json('dim_customer.json')\n",
    "invoice_df = pd.read_csv('fct_invoice.csv')"
   ]
  },
  {
   "cell_type": "markdown",
   "id": "2feb539c-997f-4d4e-89b5-bfba5b35c4d1",
   "metadata": {},
   "source": [
    "EASY\n",
    "\n",
    "1. How many unique customers are in the dataset?"
   ]
  },
  {
   "cell_type": "code",
   "execution_count": 46,
   "id": "53fd752a-69e8-4cc5-b5a0-80f769b09858",
   "metadata": {},
   "outputs": [
    {
     "name": "stdout",
     "output_type": "stream",
     "text": [
      "unique customers: 5191\n"
     ]
    }
   ],
   "source": [
    "customer_amount = customer_df['id'].nunique()\n",
    "\n",
    "print (f'unique customers: {customer_amount}')"
   ]
  },
  {
   "cell_type": "markdown",
   "id": "2259bd5a-66f5-4810-bacb-f1896730c73e",
   "metadata": {},
   "source": [
    "2. What are the different categories of products available? How many unique categories are there?"
   ]
  },
  {
   "cell_type": "code",
   "execution_count": 57,
   "id": "33876202-0c8b-4a20-8965-21afbdc6e1df",
   "metadata": {},
   "outputs": [
    {
     "name": "stdout",
     "output_type": "stream",
     "text": [
      "Different category types: Clothing, Shoes, Books, Cosmetics, Food & Beverage, Toys, Technology, Souvenir\n",
      "Amount of unique categories: 8\n"
     ]
    }
   ],
   "source": [
    "category_types = invoice_df ['category'].unique()\n",
    "category_types_str = ', '.join(category_types)\n",
    "category_amount = invoice_df['category'].nunique()\n",
    "\n",
    "print(f'different category types: {category_types_str}')\n",
    "print (f'amount of unique categories: {category_amount}')"
   ]
  },
  {
   "cell_type": "markdown",
   "id": "eb501c8f-f253-4d10-869b-33be05caa2e1",
   "metadata": {},
   "source": [
    "3. Which payment method is the most popular? How many times was it used?"
   ]
  },
  {
   "cell_type": "code",
   "execution_count": 73,
   "id": "0ac60254-fbc3-4d15-9086-0024313336c3",
   "metadata": {},
   "outputs": [
    {
     "name": "stdout",
     "output_type": "stream",
     "text": [
      "most popular payment method: Cash\n",
      "amount used: 44447\n"
     ]
    }
   ],
   "source": [
    "most_popular_payment_method = invoice_df['payment_method'].mode()[0]\n",
    "popular = invoice_df[invoice_df['payment_method'] == 'Cash']\n",
    "popular_amount = popular['payment_method'].count()\n",
    "\n",
    "print (f'most popular payment method: {most_popular_payment_method}')\n",
    "print (f'amount used: {popular_amount}')"
   ]
  },
  {
   "cell_type": "markdown",
   "id": "86224e1e-39bf-4e96-aad8-1f39df48fa14",
   "metadata": {},
   "source": [
    "MEDIUM\n",
    "\n",
    "1. What are the three most popular categories, by total sales?"
   ]
  },
  {
   "cell_type": "code",
   "execution_count": 137,
   "id": "550ecdcc-ac15-494b-a0a1-317169c47400",
   "metadata": {},
   "outputs": [
    {
     "name": "stdout",
     "output_type": "stream",
     "text": [
      "the top three most popular categories by total sales in order: Clothing, Shoes, Technology\n"
     ]
    }
   ],
   "source": [
    "invoice_df['total_sales'] = invoice_df['quantity'] * invoice_df['price']\n",
    "popular_sales = invoice_df.groupby(by =['category']).sum()['total_sales'].sort_values(ascending = False)\n",
    "top_three = popular_sales.head(3).index\n",
    "top_three_str = ', '.join(top_three)\n",
    "\n",
    "print (f'the top three most popular categories by total sales in order: {top_three_str}')"
   ]
  },
  {
   "cell_type": "markdown",
   "id": "d18ae342-eeae-41c4-93ec-1257fdfb32d2",
   "metadata": {},
   "source": [
    "2. What are the total sales attributed to customers over the age of 45?\n",
    "\n"
   ]
  },
  {
   "cell_type": "code",
   "execution_count": 249,
   "id": "8d8d1f8d-003f-4cf4-9b72-f721bb017b0a",
   "metadata": {},
   "outputs": [
    {
     "name": "stdout",
     "output_type": "stream",
     "text": [
      " total sales attributed to customers over the age of 45: 82039768.14999999\n"
     ]
    }
   ],
   "source": [
    "invoice_df['total_sales'] = invoice_df['quantity'] * invoice_df['price']\n",
    "\n",
    "merged_df = pd.merge(customer_df, invoice_df, left_on = 'id' , right_on = 'customer_id')\n",
    "\n",
    "age_filter = merged_df[merged_df['age'] > 45]\n",
    "\n",
    "total_sales_age_sum = age_filter['total_sales'].sum()\n",
    "\n",
    "print(f' total sales attributed to customers over the age of 45: {total_sales_age_sum}')"
   ]
  },
  {
   "cell_type": "markdown",
   "id": "f56fd6b9-47ac-4db2-9041-f292a83bbca0",
   "metadata": {},
   "source": [
    "3. How is the data distributed across different invoice dates? Are there any seasonal trends or patterns? (Use a graph for this.)"
   ]
  },
  {
   "cell_type": "code",
   "execution_count": 265,
   "id": "afc24967-1cba-42aa-b477-b69d1e6a4ef4",
   "metadata": {},
   "outputs": [
    {
     "data": {
      "text/plain": [
       "Text(0, 0.5, 'Number of Invoices')"
      ]
     },
     "execution_count": 265,
     "metadata": {},
     "output_type": "execute_result"
    },
    {
     "data": {
      "image/png": "[encoded data removed]",
      "text/plain": [
       "<Figure size 640x480 with 1 Axes>"
      ]
     },
     "metadata": {},
     "output_type": "display_data"
    }
   ],
   "source": [
    "\n",
    "invoice_df['total_sales'] = invoice_df['quantity'] * invoice_df['price']\n",
    "\n",
    "invoice_df['invoice_date'] = pd.to_datetime(invoice_df['invoice_date'],format='%d/%m/%Y')\n",
    "\n",
    "invoice_df['month'] = invoice_df['invoice_date'].dt.to_period('M')\n",
    "\n",
    "#monthly_sales = invoice_df.groupby('month')['total_sales'].sum()\n",
    "\n",
    "monthly_sales = invoice_df.groupby('month')['quantity'].size()\n",
    "\n",
    "monthly_sales.columns = ['Month', 'Total_sales']\n",
    "\n",
    "#print(monthly_sales.columns)\n",
    "\n",
    "graph = monthly_sales.plot(x='Month', y='Total_sales', kind=\"bar\") \n",
    "\n",
    "graph.set_ylabel('Number of Invoices')\n"
   ]
  },
  {
   "cell_type": "markdown",
   "id": "7dc79581-3eee-4399-aad2-f256759b55cf",
   "metadata": {},
   "source": [
    "The graph displays the number of invoices per month. \n",
    "\n",
    "We can observe that transactions peaked during the months of January, March, July, August, and October. We can make an inference that the sales of the months of January are influenced by post-holiday sales and New Year purchases. Sales from the month of March may be influenced by the spring season and spring related sales. July and August sales may be related caused by the mid-year sales which typically occur during these months. October sales may be in preparation for the Holiday season.\n",
    "\n",
    "It can also be seen that sales drop during the month of February, with February 2021 and 2022 having the lowest amount of transactinos among the data set (besides March 2023 which we can assume is incomplete) "
   ]
  },
  {
   "cell_type": "markdown",
   "id": "3e37dd7a-1bc3-441a-91ae-33dee0d6b24e",
   "metadata": {},
   "source": [
    "HARD\n",
    "\n",
    "1. Create a pivot table showing the breakdown of sales across these dimensions, in this order: category, decade age range (e.g., 10-19, 20-29, and so forth)."
   ]
  },
  {
   "cell_type": "code",
   "execution_count": 274,
   "id": "caf6eb2c-a9fb-44c3-9270-996d91bd1ff0",
   "metadata": {},
   "outputs": [
    {
     "data": {
      "text/html": [
       "<div>\n",
       "<style scoped>\n",
       "    .dataframe tbody tr th:only-of-type {\n",
       "        vertical-align: middle;\n",
       "    }\n",
       "\n",
       "    .dataframe tbody tr th {\n",
       "        vertical-align: top;\n",
       "    }\n",
       "\n",
       "    .dataframe thead th {\n",
       "        text-align: right;\n",
       "    }\n",
       "</style>\n",
       "<table border=\"1\" class=\"dataframe\">\n",
       "  <thead>\n",
       "    <tr style=\"text-align: right;\">\n",
       "      <th>age_ranges</th>\n",
       "      <th>10-19</th>\n",
       "      <th>20-29</th>\n",
       "      <th>30-39</th>\n",
       "      <th>40-49</th>\n",
       "      <th>50-59</th>\n",
       "      <th>60-69</th>\n",
       "      <th>70-79</th>\n",
       "      <th>80-89</th>\n",
       "    </tr>\n",
       "    <tr>\n",
       "      <th>category</th>\n",
       "      <th></th>\n",
       "      <th></th>\n",
       "      <th></th>\n",
       "      <th></th>\n",
       "      <th></th>\n",
       "      <th></th>\n",
       "      <th></th>\n",
       "      <th></th>\n",
       "    </tr>\n",
       "  </thead>\n",
       "  <tbody>\n",
       "    <tr>\n",
       "      <th>Books</th>\n",
       "      <td>12801.75</td>\n",
       "      <td>79461.75</td>\n",
       "      <td>84143.10</td>\n",
       "      <td>87203.40</td>\n",
       "      <td>74962.20</td>\n",
       "      <td>80476.80</td>\n",
       "      <td>54827.85</td>\n",
       "      <td>26664.00</td>\n",
       "    </tr>\n",
       "    <tr>\n",
       "      <th>Clothing</th>\n",
       "      <td>1927413.84</td>\n",
       "      <td>10250732.80</td>\n",
       "      <td>11354126.96</td>\n",
       "      <td>11215189.92</td>\n",
       "      <td>10321851.76</td>\n",
       "      <td>10660642.08</td>\n",
       "      <td>7769371.28</td>\n",
       "      <td>4493698.00</td>\n",
       "    </tr>\n",
       "    <tr>\n",
       "      <th>Cosmetics</th>\n",
       "      <td>109619.36</td>\n",
       "      <td>605915.32</td>\n",
       "      <td>723544.70</td>\n",
       "      <td>665034.96</td>\n",
       "      <td>587780.96</td>\n",
       "      <td>649990.76</td>\n",
       "      <td>419082.62</td>\n",
       "      <td>254531.60</td>\n",
       "    </tr>\n",
       "    <tr>\n",
       "      <th>Food &amp; Beverage</th>\n",
       "      <td>13582.31</td>\n",
       "      <td>73491.96</td>\n",
       "      <td>87246.86</td>\n",
       "      <td>89553.29</td>\n",
       "      <td>72425.04</td>\n",
       "      <td>80976.09</td>\n",
       "      <td>55050.98</td>\n",
       "      <td>31332.93</td>\n",
       "    </tr>\n",
       "    <tr>\n",
       "      <th>Shoes</th>\n",
       "      <td>993281.35</td>\n",
       "      <td>5924878.24</td>\n",
       "      <td>7200839.66</td>\n",
       "      <td>7025590.02</td>\n",
       "      <td>5852857.84</td>\n",
       "      <td>5978893.54</td>\n",
       "      <td>4480269.05</td>\n",
       "      <td>2628744.60</td>\n",
       "    </tr>\n",
       "    <tr>\n",
       "      <th>Souvenir</th>\n",
       "      <td>12375.15</td>\n",
       "      <td>54943.32</td>\n",
       "      <td>64092.72</td>\n",
       "      <td>66391.80</td>\n",
       "      <td>54943.32</td>\n",
       "      <td>55025.43</td>\n",
       "      <td>38673.81</td>\n",
       "      <td>23718.06</td>\n",
       "    </tr>\n",
       "    <tr>\n",
       "      <th>Technology</th>\n",
       "      <td>1129800.00</td>\n",
       "      <td>5261550.00</td>\n",
       "      <td>6159300.00</td>\n",
       "      <td>5954550.00</td>\n",
       "      <td>4435200.00</td>\n",
       "      <td>5471550.00</td>\n",
       "      <td>3638250.00</td>\n",
       "      <td>1946700.00</td>\n",
       "    </tr>\n",
       "    <tr>\n",
       "      <th>Toys</th>\n",
       "      <td>60426.24</td>\n",
       "      <td>385100.80</td>\n",
       "      <td>420582.40</td>\n",
       "      <td>390906.88</td>\n",
       "      <td>345067.52</td>\n",
       "      <td>363955.20</td>\n",
       "      <td>273244.16</td>\n",
       "      <td>153932.80</td>\n",
       "    </tr>\n",
       "  </tbody>\n",
       "</table>\n",
       "</div>"
      ],
      "text/plain": [
       "age_ranges            10-19        20-29        30-39        40-49  \\\n",
       "category                                                             \n",
       "Books              12801.75     79461.75     84143.10     87203.40   \n",
       "Clothing         1927413.84  10250732.80  11354126.96  11215189.92   \n",
       "Cosmetics         109619.36    605915.32    723544.70    665034.96   \n",
       "Food & Beverage    13582.31     73491.96     87246.86     89553.29   \n",
       "Shoes             993281.35   5924878.24   7200839.66   7025590.02   \n",
       "Souvenir           12375.15     54943.32     64092.72     66391.80   \n",
       "Technology       1129800.00   5261550.00   6159300.00   5954550.00   \n",
       "Toys               60426.24    385100.80    420582.40    390906.88   \n",
       "\n",
       "age_ranges             50-59        60-69       70-79       80-89  \n",
       "category                                                           \n",
       "Books               74962.20     80476.80    54827.85    26664.00  \n",
       "Clothing         10321851.76  10660642.08  7769371.28  4493698.00  \n",
       "Cosmetics          587780.96    649990.76   419082.62   254531.60  \n",
       "Food & Beverage     72425.04     80976.09    55050.98    31332.93  \n",
       "Shoes             5852857.84   5978893.54  4480269.05  2628744.60  \n",
       "Souvenir            54943.32     55025.43    38673.81    23718.06  \n",
       "Technology        4435200.00   5471550.00  3638250.00  1946700.00  \n",
       "Toys               345067.52    363955.20   273244.16   153932.80  "
      ]
     },
     "execution_count": 274,
     "metadata": {},
     "output_type": "execute_result"
    }
   ],
   "source": [
    "invoice_df['total_sales'] = invoice_df['quantity'] * invoice_df['price']\n",
    "merged_df = pd.merge(customer_df, invoice_df, left_on = 'id' , right_on = 'customer_id')\n",
    "\n",
    "bins = [10,20,30,40,50,60,70,80,90]\n",
    "labels = ['10-19', '20-29', '30-39', '40-49', '50-59', '60-69', '70-79', '80-89']\n",
    "merged_df['age_ranges'] = pd.cut(merged_df['age'], bins=bins, labels=labels, right=False)\n",
    "\n",
    "merged_df.pivot_table(index = 'category',columns='age_ranges', values = 'total_sales', aggfunc='sum')"
   ]
  },
  {
   "cell_type": "code",
   "execution_count": null,
   "id": "ea968ee1-3435-4290-a332-c25e7f2b4a4a",
   "metadata": {},
   "outputs": [],
   "source": []
  }
 ],
 "metadata": {
  "kernelspec": {
   "display_name": "Python 3 (ipykernel)",
   "language": "python",
   "name": "python3"
  },
  "language_info": {
   "codemirror_mode": {
    "name": "ipython",
    "version": 3
   },
   "file_extension": ".py",
   "mimetype": "text/x-python",
   "name": "python",
   "nbconvert_exporter": "python",
   "pygments_lexer": "ipython3",
   "version": "3.11.8"
  }
 },
 "nbformat": 4,
 "nbformat_minor": 5
}
